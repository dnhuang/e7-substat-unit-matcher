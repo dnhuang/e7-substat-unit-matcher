{
 "cells": [
  {
   "attachments": {},
   "cell_type": "markdown",
   "metadata": {},
   "source": [
    "## Imports"
   ]
  },
  {
   "cell_type": "code",
   "execution_count": 1,
   "metadata": {},
   "outputs": [],
   "source": [
    "# necessary imports\n",
    "import requests\n",
    "import re\n",
    "import time"
   ]
  },
  {
   "attachments": {},
   "cell_type": "markdown",
   "metadata": {},
   "source": [
    "## Scraping"
   ]
  },
  {
   "attachments": {},
   "cell_type": "markdown",
   "metadata": {},
   "source": [
    "### Unit Names (as of 4/17/2023)"
   ]
  },
  {
   "cell_type": "code",
   "execution_count": 2,
   "metadata": {},
   "outputs": [
    {
     "name": "stdout",
     "output_type": "stream",
     "text": [
      "['Achates', 'Adin', 'Adlay', 'Adventurer Ras', 'Ainos']\n"
     ]
    }
   ],
   "source": [
    "name_url = 'https://epic7x.com/characters/'\n",
    "\n",
    "# API Call\n",
    "name_response_string = requests.get(name_url).text\n",
    "\n",
    "# Get name of all current units\n",
    "name_pattern = \"\\\"name\\\":\\\"([\\w ]+)\\\",\\\"icon\\\"\"\n",
    "name_list = re.findall(name_pattern, name_response_string)\n",
    "\n",
    "# Display check\n",
    "print(name_list[:5])"
   ]
  },
  {
   "attachments": {},
   "cell_type": "markdown",
   "metadata": {},
   "source": [
    "In name list, whitespace characters are used. Need to replace with `\"+\"` to match unit URL."
   ]
  },
  {
   "cell_type": "code",
   "execution_count": 63,
   "metadata": {},
   "outputs": [],
   "source": [
    "def extract_substats(name):\n",
    "    # create correct URL\n",
    "    name_cleaned = name.replace(\" \", \"-\").replace(\"\\'\", \"\").lower()\n",
    "    name_url = \"https://epic7x.com/character/\" + name_cleaned + \"/\"\n",
    "    print(name_url) # DEBUG\n",
    "    substats_blob_response_string = requests.get(name_url).text # API call\n",
    "    #print(substats_blob_response_string[:100])\n",
    "    # print(substats_blob_response_string)\n",
    "\n",
    "    # instantiate pattern\n",
    "    substats_blob_pattern = \"<span class='f-16'><b>([\\w\\W]{0,1300})<\\/div>\"\n",
    "    substats_blob_list = re.findall(substats_blob_pattern, substats_blob_response_string)\n",
    "\n",
    "    # split `substats_blob_list` so that 0th index is the substat\n",
    "    split_substats_list = substats_blob_list[0].split('<b>')\n",
    "\n",
    "    # extract substats from `split_substats_list`, 0th element \n",
    "    substats_list = []\n",
    "    for stat_blob in split_substats_list:\n",
    "        stat = stat_blob.split(\"</b>\")[0] # 0th element is the stat\n",
    "        #print(stat) # TYPE str lit\n",
    "        if stat not in substats_list: # don't add dupes\n",
    "            substats_list.append(stat)\n",
    "\n",
    "    # display checks            \n",
    "    print(name)\n",
    "    print(substats_list)\n",
    "    print(\"<------------------------->\")"
   ]
  },
  {
   "cell_type": "code",
   "execution_count": 64,
   "metadata": {},
   "outputs": [
    {
     "name": "stdout",
     "output_type": "stream",
     "text": [
      "https://epic7x.com/character/achates/\n",
      "Achates\n",
      "['Hp%', 'Def%', 'Speed', 'Effect Resistance%']\n",
      "<------------------------->\n",
      "https://epic7x.com/character/adin/\n",
      "Adin\n",
      "['Atk%', 'Crit Damage%', 'Crit Rate%', 'Speed']\n",
      "<------------------------->\n",
      "https://epic7x.com/character/adlay/\n",
      "Adlay\n",
      "['Atk%', 'Crit Rate%', 'Crit Damage%', 'Speed']\n",
      "<------------------------->\n",
      "https://epic7x.com/character/adventurer-ras/\n",
      "Adventurer Ras\n",
      "['Hp%', 'Speed', 'Def%', 'Effectiveness%']\n",
      "<------------------------->\n",
      "https://epic7x.com/character/ainos/\n",
      "Ainos\n",
      "['Speed', 'Hp%']\n",
      "<------------------------->\n",
      "https://epic7x.com/character/ains/\n",
      "Ains\n",
      "['Crit Rate%', 'Crit Damage%', 'Atk%', 'Hp%']\n",
      "<------------------------->\n",
      "https://epic7x.com/character/aither/\n",
      "Aither\n",
      "['Atk%', 'Hp%', 'Effect Resistance%', 'Speed']\n",
      "<------------------------->\n",
      "https://epic7x.com/character/alencia/\n",
      "Alencia\n",
      "['Hp%', 'Crit Rate%', 'Crit Damage%', 'Speed', 'Effectiveness%']\n",
      "<------------------------->\n",
      "https://epic7x.com/character/alexa/\n",
      "Alexa\n",
      "['Crit Rate%', 'Atk%', 'Speed', 'Crit Damage%', 'Effectiveness%']\n",
      "<------------------------->\n",
      "https://epic7x.com/character/ambitious-tywin/\n",
      "Ambitious Tywin\n",
      "['Hp%', 'Speed', 'Effectiveness%']\n",
      "<------------------------->\n",
      "https://epic7x.com/character/amid/\n",
      "Amid\n",
      "['Hp%', 'Flat Health', 'Def%', 'Flat Def', 'Effect Resistance%']\n",
      "<------------------------->\n",
      "https://epic7x.com/character/angel-of-light-angelica/\n",
      "Angel of Light Angelica\n",
      "['Speed', 'Hp%', 'Effectiveness%', 'Def%']\n",
      "<------------------------->\n",
      "https://epic7x.com/character/angelic-montmorancy/\n",
      "Angelic Montmorancy\n",
      "['Effect Resistance%', 'Speed', 'Hp%', 'Def%']\n",
      "<------------------------->\n",
      "https://epic7x.com/character/angelica/\n",
      "Angelica\n",
      "['Hp%', 'Def%', 'Speed', 'Effect Resistance%']\n",
      "<------------------------->\n",
      "https://epic7x.com/character/apocalypse-ravi/\n",
      "Apocalypse Ravi\n",
      "['Hp%', 'Def%', 'Crit Rate%', 'Crit Damage%']\n",
      "<------------------------->\n",
      "https://epic7x.com/character/aramintha/\n",
      "Aramintha\n",
      "['Effectiveness%', 'Atk%', 'Speed']\n",
      "<------------------------->\n",
      "https://epic7x.com/character/arbiter-vildred/\n",
      "Arbiter Vildred\n",
      "['Atk%', 'Crit Rate%', 'Crit Damage%', 'Speed']\n",
      "<------------------------->\n",
      "https://epic7x.com/character/aria/\n",
      "Aria\n",
      "['Crit Damage%', 'Crit Rate%', 'Speed', 'Effectiveness%', 'Effect Resistance%']\n",
      "<------------------------->\n",
      "https://epic7x.com/character/armin/\n"
     ]
    },
    {
     "ename": "IndexError",
     "evalue": "list index out of range",
     "output_type": "error",
     "traceback": [
      "\u001b[0;31m---------------------------------------------------------------------------\u001b[0m",
      "\u001b[0;31mIndexError\u001b[0m                                Traceback (most recent call last)",
      "Cell \u001b[0;32mIn[64], line 5\u001b[0m\n\u001b[1;32m      2\u001b[0m     extract_substats(name)\n\u001b[1;32m      4\u001b[0m \u001b[39mfor\u001b[39;00m name \u001b[39min\u001b[39;00m name_list[\u001b[39m18\u001b[39m:]: \u001b[39m# SKIP 17\u001b[39;00m\n\u001b[0;32m----> 5\u001b[0m     extract_substats(name)\n",
      "Cell \u001b[0;32mIn[63], line 15\u001b[0m, in \u001b[0;36mextract_substats\u001b[0;34m(name)\u001b[0m\n\u001b[1;32m     12\u001b[0m substats_blob_list \u001b[39m=\u001b[39m re\u001b[39m.\u001b[39mfindall(substats_blob_pattern, substats_blob_response_string)\n\u001b[1;32m     14\u001b[0m \u001b[39m# split `substats_blob_list` so that 0th index is the substat\u001b[39;00m\n\u001b[0;32m---> 15\u001b[0m split_substats_list \u001b[39m=\u001b[39m substats_blob_list[\u001b[39m0\u001b[39;49m]\u001b[39m.\u001b[39msplit(\u001b[39m'\u001b[39m\u001b[39m<b>\u001b[39m\u001b[39m'\u001b[39m)\n\u001b[1;32m     17\u001b[0m \u001b[39m# extract substats from `split_substats_list`, 0th element \u001b[39;00m\n\u001b[1;32m     18\u001b[0m substats_list \u001b[39m=\u001b[39m []\n",
      "\u001b[0;31mIndexError\u001b[0m: list index out of range"
     ]
    }
   ],
   "source": [
    "for name in name_list[:17]: # SKIP 17\n",
    "    extract_substats(name)\n",
    "\n",
    "for name in name_list[18:]: # SKIP 17\n",
    "    extract_substats(name)"
   ]
  },
  {
   "attachments": {},
   "cell_type": "markdown",
   "metadata": {},
   "source": [
    "# MANUAL CHECKS\n",
    "\n",
    "VERY INTERESTING ISSUE.\n",
    "\n",
    "For some reason if I don't open the webpage first, my API get call returns a String with an \"You have reached an error\"\n",
    "\n",
    "But once I open the webpage ONCE, it works the rest of the time?"
   ]
  },
  {
   "cell_type": "code",
   "execution_count": 60,
   "metadata": {},
   "outputs": [
    {
     "name": "stdout",
     "output_type": "stream",
     "text": [
      ".net/wordpress-speed/wpx-hosting-promo-coupon-discount-code/\" target=\"_blank\"><img src=\"https://cf.wpx.net/img/No-Website-Installed.png\" style=\"width: 450px;\" /></a>\n",
      "        <br />\n",
      "        &nbsp;\n",
      "        <br />\n",
      "        <span style=\"font-weight: 500;\">You have reached an error page on WPX.net</span>\n",
      "        <br />\n",
      "        &nbsp;\n",
      "        <br />\n",
      "        If you are seeing this page, it is because there is no website installed on this domain yet.\n",
      "        <br />\n",
      "        &nbsp;\n",
      "        <br /\n"
     ]
    }
   ],
   "source": [
    "response_check = requests.get(\"https://epic7x.com/character/cartuja/\").text\n",
    "print(response_check[1500:2000]) # error message around 1500:2000 range"
   ]
  },
  {
   "attachments": {},
   "cell_type": "markdown",
   "metadata": {},
   "source": [
    "The following code are the intermediate code cells I used to build up my function:"
   ]
  },
  {
   "cell_type": "code",
   "execution_count": 65,
   "metadata": {},
   "outputs": [
    {
     "name": "stdout",
     "output_type": "stream",
     "text": [
      "0\n"
     ]
    }
   ],
   "source": [
    "substats_blob_pattern = \"<span class='f-16'><b>([\\w\\W]{0,900})<\\/div>\"\n",
    "substats_blob_list = re.findall(substats_blob_pattern, response_check)\n",
    "print(len(substats_blob_list))"
   ]
  },
  {
   "cell_type": "code",
   "execution_count": 62,
   "metadata": {},
   "outputs": [
    {
     "name": "stdout",
     "output_type": "stream",
     "text": [
      "[]\n"
     ]
    }
   ],
   "source": [
    "print(substats_blob_list)"
   ]
  },
  {
   "cell_type": "code",
   "execution_count": 49,
   "metadata": {},
   "outputs": [
    {
     "ename": "IndexError",
     "evalue": "list index out of range",
     "output_type": "error",
     "traceback": [
      "\u001b[0;31m---------------------------------------------------------------------------\u001b[0m",
      "\u001b[0;31mIndexError\u001b[0m                                Traceback (most recent call last)",
      "Cell \u001b[0;32mIn[49], line 1\u001b[0m\n\u001b[0;32m----> 1\u001b[0m split_list \u001b[39m=\u001b[39m substats_blob_list[\u001b[39m0\u001b[39;49m]\u001b[39m.\u001b[39msplit(\u001b[39m'\u001b[39m\u001b[39m<b>\u001b[39m\u001b[39m'\u001b[39m)\n\u001b[1;32m      2\u001b[0m \u001b[39mprint\u001b[39m(split_list)\n",
      "\u001b[0;31mIndexError\u001b[0m: list index out of range"
     ]
    }
   ],
   "source": [
    "split_list = substats_blob_list[0].split('<b>')\n",
    "print(split_list)"
   ]
  },
  {
   "cell_type": "code",
   "execution_count": 23,
   "metadata": {},
   "outputs": [
    {
     "name": "stdout",
     "output_type": "stream",
     "text": [
      "['Speed', 'Effectiveness%', 'Hp%', 'Def%']\n"
     ]
    }
   ],
   "source": [
    "stat_list = []\n",
    "for stat_blob in split_list:\n",
    "    stat = stat_blob.split(\"</b>\")[0] # 0th element is the stat\n",
    "    #print(stat) # TYPE str lit\n",
    "    if stat not in stat_list: # don't add dupes\n",
    "        stat_list.append(stat)\n",
    "print(stat_list)\n"
   ]
  },
  {
   "cell_type": "code",
   "execution_count": null,
   "metadata": {},
   "outputs": [],
   "source": []
  }
 ],
 "metadata": {
  "kernelspec": {
   "display_name": "Python 3",
   "language": "python",
   "name": "python3"
  },
  "language_info": {
   "codemirror_mode": {
    "name": "ipython",
    "version": 3
   },
   "file_extension": ".py",
   "mimetype": "text/x-python",
   "name": "python",
   "nbconvert_exporter": "python",
   "pygments_lexer": "ipython3",
   "version": "3.11.3"
  },
  "orig_nbformat": 4
 },
 "nbformat": 4,
 "nbformat_minor": 2
}
